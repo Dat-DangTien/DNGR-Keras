{
 "cells": [
  {
   "cell_type": "code",
   "execution_count": 4,
   "id": "89c3e66e",
   "metadata": {},
   "outputs": [],
   "source": [
    "import networkx as nx\n",
    "from karateclub import Node2Vec\n",
    "from sklearn.cluster import KMeans\n",
    "# import matplotlib.pyplot as plt\n",
    "\n",
    "# Bước 1: Load đồ thị karate nổi tiếng từ networkx\n",
    "graph = nx.karate_club_graph()\n",
    "\n",
    "# Bước 2: Dùng Node2Vec để học embedding\n",
    "model = Node2Vec()\n",
    "model.fit(graph)\n",
    "\n",
    "# Bước 3: Lấy embedding dạng numpy array\n",
    "embeddings = model.get_embedding()\n",
    "\n",
    "# Bước 4: Phân cụm với KMeans\n",
    "kmeans = KMeans(n_clusters=4, random_state=0)\n",
    "labels = kmeans.fit_predict(embeddings)\n",
    "\n",
    "# Bước 5: Vẽ kết quả\n",
    "# plt.figure(figsize=(8, 6))\n",
    "# pos = nx.spring_layout(graph, seed=42)\n",
    "# nx.draw(graph, pos, node_color=labels, with_labels=True, cmap=plt.cm.Set3, node_size=500)\n",
    "# plt.title(\"Community Detection with Node2Vec + KMeans\")\n",
    "# plt.show()\n"
   ]
  },
  {
   "cell_type": "code",
   "execution_count": 5,
   "id": "ad26e248",
   "metadata": {},
   "outputs": [
    {
     "data": {
      "text/plain": [
       "array([1, 1, 3, 1, 1, 1, 1, 1, 3, 3, 1, 1, 1, 3, 0, 0, 1, 1, 0, 3, 0, 1,\n",
       "       0, 2, 2, 2, 0, 0, 3, 0, 3, 2, 0, 0])"
      ]
     },
     "execution_count": 5,
     "metadata": {},
     "output_type": "execute_result"
    }
   ],
   "source": [
    "labels"
   ]
  },
  {
   "cell_type": "code",
   "execution_count": 6,
   "id": "74c10ae9",
   "metadata": {},
   "outputs": [],
   "source": [
    "def generate_rand_graph_gaussian(N, mean, sh, p_in, p_out):\n",
    "    # data_test_record.append('Gaussian random partition generator')\n",
    "    lst_param = [N, mean, sh, p_in, p_out]\n",
    "    str1 = '-'.join(str(e) for e in lst_param)\n",
    "    # data_test_record.append(str1)\n",
    "    while True:\n",
    "        G = nx.generators.community.gaussian_random_partition_graph(N,mean,sh, p_in,p_out,)\n",
    "\n",
    "        #G = nx.gaussian_random_partition_graph(100, 10, 10, 0.25, 0.1)\n",
    "        check_adj = nx.to_numpy_array(G)\n",
    "        create_graph = nx.from_numpy_array(check_adj, create_using=nx.Graph)\n",
    "\n",
    "        if nx.is_connected(create_graph):\n",
    "            break\n",
    "\n",
    "    # N = G.number_of_nodes()\n",
    "\n",
    "    # for x in range(N):\n",
    "    #     G.add_edge(x, x)\n",
    "    return G"
   ]
  },
  {
   "cell_type": "code",
   "execution_count": 7,
   "id": "2e94d546",
   "metadata": {},
   "outputs": [],
   "source": [
    "def generate_rand_graph_partition_l(number_comm, size_each_comm, p_in, p_out):\n",
    "    # data_test_record.append('Planted l-partition model')\n",
    "    lst_param = [number_comm, size_each_comm, p_in, p_out]\n",
    "    str1 = '-'.join(str(e) for e in lst_param)\n",
    "    # data_test_record.append(str1)\n",
    "    while True:\n",
    "        G = nx.generators.community.planted_partition_graph(number_comm, size_each_comm\n",
    "                                                                   , p_in, p_out)\n",
    "        if nx.is_connected(G):\n",
    "            break\n",
    "\n",
    "    # N = G.number_of_nodes()\n",
    "\n",
    "    # for x in range(N):\n",
    "    #     G.add_edge(x, x)\n",
    "    return G"
   ]
  },
  {
   "cell_type": "code",
   "execution_count": 11,
   "id": "8630512d",
   "metadata": {},
   "outputs": [],
   "source": [
    "N = 250\n",
    "K=15\n",
    "g = generate_rand_graph_gaussian(250,10,2.5,0.7,0.07)\n",
    "bp_org=g.graph[\"partition\"]"
   ]
  },
  {
   "cell_type": "code",
   "execution_count": 12,
   "id": "088045dc",
   "metadata": {},
   "outputs": [],
   "source": [
    "# Bước 2: Dùng Node2Vec để học embedding\n",
    "model = Node2Vec()\n",
    "model.fit(g)\n",
    "\n",
    "# Bước 3: Lấy embedding dạng numpy array\n",
    "embeddings = model.get_embedding()\n",
    "\n",
    "# Bước 4: Phân cụm với KMeans\n",
    "kmeans = KMeans(n_clusters=4, random_state=0)\n",
    "labels = kmeans.fit_predict(embeddings)"
   ]
  },
  {
   "cell_type": "code",
   "execution_count": 15,
   "id": "08c485c9",
   "metadata": {},
   "outputs": [
    {
     "data": {
      "text/plain": [
       "array([6, 4, 4, 4, 4, 4, 4, 4, 4, 7, 1, 2, 2, 2, 2, 2, 2, 2, 8, 1, 8, 4,\n",
       "       8, 8, 9, 4, 8, 6, 6, 6, 6, 5, 6, 6, 6, 6, 6, 6, 6, 6, 6, 6, 6, 6,\n",
       "       6, 6, 3, 3, 6, 0, 9, 0, 1, 1, 1, 6, 1, 1, 1, 9, 1, 6, 1, 7, 7, 3,\n",
       "       4, 7, 1, 3, 4, 6, 6, 6, 6, 6, 6, 6, 6, 6, 2, 0, 0, 0, 7, 0, 9, 0,\n",
       "       0, 0, 8, 8, 8, 8, 8, 8, 4, 0, 5, 8, 8, 2, 6, 6, 2, 6, 6, 2, 6, 6,\n",
       "       6, 6, 6, 8, 6, 6, 9, 4, 4, 4, 9, 9, 4, 4, 4, 9, 4, 4, 9, 0, 9, 9,\n",
       "       9, 9, 9, 9, 9, 0, 7, 7, 8, 7, 7, 9, 4, 1, 1, 7, 1, 8, 5, 8, 6, 6,\n",
       "       8, 5, 4, 8, 8, 8, 1, 1, 1, 1, 1, 1, 1, 1, 1, 1, 1, 1, 1, 1, 1, 1,\n",
       "       1, 1, 1, 1, 1, 2, 1, 1, 1, 8, 7, 0, 0, 0, 4, 7, 4, 0, 3, 3, 3, 3,\n",
       "       3, 3, 3, 3, 6, 3, 3, 3, 6, 9, 2, 6, 0, 4, 4, 4, 5, 4, 8, 5, 5, 5,\n",
       "       5, 5, 5, 5, 5, 5, 5, 5, 5, 7, 7, 7, 7, 7, 7, 7, 7, 7, 7, 7, 7, 7,\n",
       "       2, 0, 2, 8, 2, 2, 2, 2])"
      ]
     },
     "execution_count": 15,
     "metadata": {},
     "output_type": "execute_result"
    }
   ],
   "source": [
    "# Bước 4: Phân cụm với KMeans\n",
    "kmeans = KMeans(n_clusters=10, random_state=0)\n",
    "labels = kmeans.fit_predict(embeddings)\n",
    "labels"
   ]
  },
  {
   "cell_type": "code",
   "execution_count": 1,
   "id": "0bba6d7e",
   "metadata": {},
   "outputs": [],
   "source": [
    "import pandas as pd\n",
    "from sklearn.metrics.pairwise import cosine_similarity\n",
    "import networkx as nx\n",
    "from sklearn.cluster import KMeans\n",
    "import matplotlib.colors as colors\n",
    "from itertools import cycle\n",
    "import time\n",
    "import matplotlib.pyplot as plt\n",
    "import subprocess\n",
    "from utils import tsne\n",
    "import pdb\n",
    "import numpy as np\n",
    "from sklearn.metrics import normalized_mutual_info_score as nmi\n",
    "import scipy.io as sio\n",
    "\n",
    "import numpy as np\n",
    "import matplotlib.pyplot as plt\n",
    "from sklearn.cluster import KMeans, SpectralClustering, AgglomerativeClustering\n",
    "from sklearn.metrics import normalized_mutual_info_score\n",
    "from scipy.optimize import linear_sum_assignment\n",
    "from collections import defaultdict\n",
    "\n",
    "def cluster(reprsn, true_labels, methods=[\"kmeans\"], n_clusters_range=[2, 3, 4]):\n",
    "    results = []\n",
    "    plot_data = defaultdict(lambda: {\"n_clusters\": [], \"ACC\": [], \"NMI\": []})\n",
    "\n",
    "    def clustering_accuracy(y_true, y_pred):\n",
    "        y_true = np.array(y_true).astype(np.int64)\n",
    "        y_pred = np.array(y_pred).astype(np.int64)\n",
    "        D = max(y_pred.max(), y_true.max()) + 1\n",
    "        w = np.zeros((D, D), dtype=np.int64)\n",
    "        for i in range(len(y_pred)):\n",
    "            w[y_pred[i], y_true[i]] += 1\n",
    "        ind = linear_sum_assignment(w.max() - w)\n",
    "        return sum([w[i, j] for i, j in zip(*ind)]) * 1.0 / len(y_pred)\n",
    "\n",
    "    for method in methods:\n",
    "        print(f\"\\n=== {method.upper()} ===\")\n",
    "        for n_clusters in n_clusters_range:\n",
    "            if method == \"kmeans\":\n",
    "                model = KMeans(n_clusters=n_clusters, random_state=42)\n",
    "            elif method == \"kmeans++\":\n",
    "                model = KMeans(n_clusters=n_clusters, init='k-means++', random_state=42)\n",
    "            elif method == \"spectral\":\n",
    "                model = SpectralClustering(n_clusters=n_clusters, affinity='nearest_neighbors', random_state=42)\n",
    "            elif method == \"agglomerative\":\n",
    "                model = AgglomerativeClustering(n_clusters=n_clusters)\n",
    "            else:\n",
    "                print(f\"Thuật toán '{method}' chưa được hỗ trợ.\")\n",
    "                continue\n",
    "\n",
    "            pred_labels = model.fit_predict(reprsn)\n",
    "            acc = clustering_accuracy(true_labels, pred_labels)\n",
    "            nmi = normalized_mutual_info_score(true_labels, pred_labels)\n",
    "\n",
    "            print(f\"#clusters = {n_clusters} | ACC = {acc:.4f} | NMI = {nmi:.4f}\")\n",
    "\n",
    "            results.append({\n",
    "                \"method\": method,\n",
    "                \"n_clusters\": n_clusters,\n",
    "                \"ACC\": acc,\n",
    "                \"NMI\": nmi\n",
    "            })\n",
    "\n",
    "            plot_data[method][\"n_clusters\"].append(n_clusters)\n",
    "            plot_data[method][\"ACC\"].append(acc)\n",
    "            plot_data[method][\"NMI\"].append(nmi)\n",
    "\n",
    "    # Vẽ biểu đồ cho từng phương pháp\n",
    "    for method in plot_data:\n",
    "        n_clusters = plot_data[method][\"n_clusters\"]\n",
    "        acc_values = plot_data[method][\"ACC\"]\n",
    "        nmi_values = plot_data[method][\"NMI\"]\n",
    "\n",
    "        plt.figure()\n",
    "        plt.plot(n_clusters, acc_values, marker='o', label='ACC')\n",
    "        plt.plot(n_clusters, nmi_values, marker='s', label='NMI')\n",
    "        plt.title(f\"Clustering Results - {method}\")\n",
    "        plt.xlabel(\"Number of Clusters\")\n",
    "        plt.ylabel(\"Score\")\n",
    "        plt.legend()\n",
    "        plt.grid(True)\n",
    "        plt.show()\n",
    "\n",
    "    return results\n",
    "\n",
    "\n",
    "def cluster_old(data,true_labels,n_clusters=3):\n",
    "\n",
    "\tkm = KMeans(init='k-means++', n_clusters=n_clusters, n_init=10)\n",
    "\tkm.fit(data)\n",
    "\n",
    "\tkm_means_labels = km.labels_\n",
    "\tkm_means_cluster_centers = km.cluster_centers_\n",
    "\tkm_means_labels_unique = np.unique(km_means_labels)\n",
    "\n",
    "\tcolors_ = cycle(colors.cnames.keys())\n",
    "\n",
    "\tinitial_dim = np.shape(data)[1]\n",
    "\tdata_2 = tsne(data,2,initial_dim,30)\n",
    "\n",
    "\tplt.figure(figsize=(12, 6))\n",
    "\tplt.scatter(data_2[:,0],data_2[:,1], c=true_labels)\n",
    "\tplt.title('True Labels')\n",
    "\n",
    "\treturn km_means_labels\n",
    "\n",
    "data_mat = sio.loadmat('data/wine_network.mat')"
   ]
  },
  {
   "cell_type": "code",
   "execution_count": 5,
   "id": "554448c6",
   "metadata": {},
   "outputs": [
    {
     "data": {
      "text/plain": [
       "0.9625381828713099"
      ]
     },
     "execution_count": 5,
     "metadata": {},
     "output_type": "execute_result"
    }
   ],
   "source": [
    "data_mat['adjMat'][0,5]"
   ]
  },
  {
   "cell_type": "code",
   "execution_count": null,
   "id": "5d8c5f1a",
   "metadata": {},
   "outputs": [],
   "source": []
  }
 ],
 "metadata": {
  "kernelspec": {
   "display_name": "tf_env",
   "language": "python",
   "name": "python3"
  },
  "language_info": {
   "codemirror_mode": {
    "name": "ipython",
    "version": 3
   },
   "file_extension": ".py",
   "mimetype": "text/x-python",
   "name": "python",
   "nbconvert_exporter": "python",
   "pygments_lexer": "ipython3",
   "version": "3.10.16"
  }
 },
 "nbformat": 4,
 "nbformat_minor": 5
}
